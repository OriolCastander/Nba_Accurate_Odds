{
 "cells": [
  {
   "cell_type": "markdown",
   "metadata": {},
   "source": [
    "## NBA accurate odds calculator (and tester)"
   ]
  },
  {
   "cell_type": "markdown",
   "metadata": {},
   "source": [
    "This is the first version of my NBA accurate odds calculator. More complex and precise editions of this software have been developed, including throwing in a little bit of machine learning and accounting for individual games stats such as field goal pct, rebounds and so on (accomplished by scraping the NBA's official scorer's report for each specific game). Nevertheless, the core idea and procedures has remained the same ones regardless of the version. If you wish to learn more about those future editions, do not hesitate to contact me."
   ]
  },
  {
   "cell_type": "markdown",
   "metadata": {},
   "source": [
    "This project only uses the data provided in the betting_expanded.csv. The csv consists of ten columns.\n",
    "Home Team / Away Team and Home Points / Away Points are self-explanatory.\n",
    "Home Odds and Away Odds are the betting odds provided by Odds Portal in the european format (which simply states the money you'll end up having if you've bet $1 and win). All bets are betting the winner of the game.\n",
    "Home and Away Pct indicate the home and away team's winning percentatge (for home and road games respectively) up to (and including) that row's game.\n",
    "Home and Away Ndf indicate the average home and away's net point diferential at home and on the road respectively up to (and including) that row's game."
   ]
  },
  {
   "cell_type": "markdown",
   "metadata": {},
   "source": [
    "Although the code is not shown here, getting the csv data is not complicated. I've used the betting data provided by oddsportal.com (which is pretty easy to scrape) and afterwards run another simple script to add the winning percentage and net differential columns to the dataframe."
   ]
  },
  {
   "cell_type": "markdown",
   "metadata": {},
   "source": [
    "## Handling for the linear regressions"
   ]
  },
  {
   "cell_type": "markdown",
   "metadata": {},
   "source": [
    "The key to calulate the mathematically exact odds for each team in a specific game is to correctly assess the team's strenght against the rest of the league. In this version of the software this is done with a linear regression which plots the mean ndf (net points differential) of the oposing team against the net diferential of the game."
   ]
  },
  {
   "cell_type": "markdown",
   "metadata": {},
   "source": [
    "For example, supose that A is playing at home against B. B has, up to this point, on average lost by 4 on the road (away ndf of -4); and the game finishes with A winning by 7. On A's home regression plot we'll mark the point with coordinates (7,4), and on B's away regression we would mark (-7,A's home ndf)."
   ]
  },
  {
   "cell_type": "markdown",
   "metadata": {},
   "source": [
    "It is reasonable to expect that the points will, more or less, draw a descending line, as you are expected to perform better against bad teams that have a below 0 ndf than against good teams that boast a tremendous ndf."
   ]
  },
  {
   "cell_type": "markdown",
   "metadata": {},
   "source": [
    "This method is also useful for another thing: with a linear regression comes a variance from the line, a darn good measure of the inconsistency of the team."
   ]
  },
  {
   "cell_type": "code",
   "execution_count": 1,
   "metadata": {},
   "outputs": [],
   "source": [
    "import pandas as pd\n",
    "import numpy as np"
   ]
  },
  {
   "cell_type": "code",
   "execution_count": 2,
   "metadata": {},
   "outputs": [],
   "source": [
    "df = pd.read_csv('data/betting_expanded.csv')"
   ]
  },
  {
   "cell_type": "code",
   "execution_count": 3,
   "metadata": {},
   "outputs": [],
   "source": [
    "teams = ['Bucks','Raptors','Celtics','Heat','Pacers','76ers','Nets','Magic','Wizards','Hornets','Bulls','Knicks',\n",
    "         'Pistons','Hawks','Cavaliers','Lakers','Clippers','Nuggets','Jazz','Thunder','Rockets','Mavericks','Grizzlies',\n",
    "         'Trail Blazers','Pelicans','Kings','Spurs','Suns','Timberwolves','Warriors']"
   ]
  },
  {
   "cell_type": "code",
   "execution_count": 4,
   "metadata": {},
   "outputs": [],
   "source": [
    "home_ndf_regs, away_ndf_regs = {},{}\n",
    "home_games_fetched, away_games_fetched = {},{}\n",
    "for team in teams:\n",
    "    home_ndf_regs[team], away_ndf_regs[team] = [None] * 41, [None] * 41\n",
    "    home_games_fetched[team], away_games_fetched[team] = 0,0"
   ]
  },
  {
   "cell_type": "code",
   "execution_count": 9,
   "metadata": {},
   "outputs": [],
   "source": [
    "for i,game in df.iterrows():\n",
    "    home_game_update = update_ndf_regs(game,True,home_ndf_regs[game[\"Home Team\"]][home_games_fetched[game[\"Home Team\"]]],home_games_fetched[game[\"Home Team\"]])\n",
    "    away_game_update = update_ndf_regs(game,False,away_ndf_regs[game[\"Away Team\"]][away_games_fetched[game[\"Away Team\"]]],away_games_fetched[game[\"Away Team\"]])\n",
    "    \n",
    "    home_ndf_regs[game[\"Home Team\"]][home_games_fetched[game[\"Home Team\"]]] = home_game_update\n",
    "    away_ndf_regs[game[\"Away Team\"]][away_games_fetched[game[\"Away Team\"]]] = away_game_update\n",
    "    \n",
    "    home_games_fetched[game[\"Home Team\"]] += 1\n",
    "    away_games_fetched[game[\"Away Team\"]] += 1\n",
    "    "
   ]
  },
  {
   "cell_type": "code",
   "execution_count": 5,
   "metadata": {},
   "outputs": [],
   "source": [
    "def update_ndf_regs(game,home,regression,n):\n",
    "    if home:\n",
    "        x, y, team = game[\"Away Ndf\"], game[\"Home Points\"] - game[\"Away Points\"], game[\"Home Team\"]\n",
    "    elif not home:\n",
    "        x,y, team = game[\"Home Ndf\"], game[\"Away Points\"] - game[\"Home Points\"], game[\"Away Team\"]\n",
    "        \n",
    "        \n",
    "    if n == 0:\n",
    "        if home:\n",
    "            return {\"sum_x\": x, \"sum_y\": y, \"sum_x2\":x*x,\"sum_xy\":x*y,\"m\":0.0,\"b\":y,\"std\":0.0,\"mean\":y}\n",
    "        elif not home:\n",
    "            return {\"sum_x\": x, \"sum_y\": y, \"sum_x2\":x*x,\"sum_xy\":x*y,\"m\":0.0,\"b\":y,\"std\":0.0,\"mean\":y}\n",
    "    else:\n",
    "        \n",
    "        rels = fetch_relevants(home,n,team)\n",
    "        n, mean, std = update_std((n,rels[\"mean\"],rels[\"std\"]),y)\n",
    "        \n",
    "        \n",
    "        if home: return append_relevants(rels,x,y,n,mean,std)\n",
    "        elif not home: return append_relevants(rels,x,y,n,mean,std)\n",
    "        "
   ]
  },
  {
   "cell_type": "code",
   "execution_count": 6,
   "metadata": {},
   "outputs": [],
   "source": [
    "def fetch_relevants(home,n,team):\n",
    "    if home:\n",
    "        return  home_ndf_regs[team][n-1]\n",
    "    elif not home:\n",
    "        return away_ndf_regs[team][n-1]\n"
   ]
  },
  {
   "cell_type": "code",
   "execution_count": 7,
   "metadata": {},
   "outputs": [],
   "source": [
    "def append_relevants(rels,x,y,n,mean,std):\n",
    "    m_a = rels[\"sum_xy\"] + x*y\n",
    "    m_b = (rels[\"sum_x\"] + x) * (rels[\"sum_y\"] + y)\n",
    "    m_c = rels[\"sum_x2\"] + x*x\n",
    "    m_d = pow(rels[\"sum_x\"]+x,2)\n",
    "\n",
    "    m = 0\n",
    "    if (n*m_c - m_d) != 0: m = (n*m_a - m_b)/(n*m_c - m_d)\n",
    "    b = (rels[\"sum_y\"] - m*(rels[\"sum_x\"] + x))/n\n",
    "    \n",
    "    return {\"sum_x\": rels[\"sum_x\"] + x, \"sum_y\": rels[\"sum_y\"]+y, \"sum_x2\":rels[\"sum_x2\"] + x*x, \"sum_xy\": rels[\"sum_xy\"] + x*y,\n",
    "            \"m\": m, \"b\": b, \"mean\":mean,\"std\":std}"
   ]
  },
  {
   "cell_type": "code",
   "execution_count": 8,
   "metadata": {},
   "outputs": [],
   "source": [
    "def update_std(existing,new):\n",
    "    (n, mean, old_std) = existing\n",
    "    dif = old_std*old_std * (n + 1)\n",
    "    n += 1\n",
    "    delta1 = new - mean\n",
    "    mean += delta1 / n\n",
    "    delta2 = new - mean\n",
    "    dif += delta1 * delta2\n",
    "    return (n,mean,np.sqrt(dif/n))\n"
   ]
  },
  {
   "cell_type": "markdown",
   "metadata": {},
   "source": [
    "## Iterate through df and append expected ndfs"
   ]
  },
  {
   "cell_type": "code",
   "execution_count": 10,
   "metadata": {},
   "outputs": [],
   "source": [
    "home_games_fetched, away_games_fetched = {},{}\n",
    "for team in teams:\n",
    "    home_games_fetched[team], away_games_fetched[team] = 0,0"
   ]
  },
  {
   "cell_type": "code",
   "execution_count": 12,
   "metadata": {},
   "outputs": [],
   "source": [
    "df['Home Expected Ndf'] = df.apply(lambda row: expected_ndf(row,True), axis=1)\n",
    "df['Away Expected Ndf'] = df.apply(lambda row: expected_ndf(row,False), axis=1)"
   ]
  },
  {
   "cell_type": "code",
   "execution_count": 11,
   "metadata": {},
   "outputs": [],
   "source": [
    "def expected_ndf(row, home):\n",
    "    if home:\n",
    "        team, target_ndf = row[\"Home Team\"], row['Away Ndf']\n",
    "        target_line = home_ndf_regs[team][home_games_fetched[team]]\n",
    "        home_games_fetched[team] += 1\n",
    "        return target_line['m'] * target_ndf + target_line['b']\n",
    "\n",
    "    elif not home:\n",
    "        team, target_ndf = row[\"Away Team\"], row['Home Ndf']\n",
    "        target_line = away_ndf_regs[team][away_games_fetched[team]]\n",
    "        away_games_fetched[team] += 1\n",
    "        return target_line['m'] * target_ndf + target_line['b']\n",
    "        \n",
    "    \n",
    "    \n",
    "    "
   ]
  },
  {
   "cell_type": "markdown",
   "metadata": {},
   "source": [
    "## Same for std columns"
   ]
  },
  {
   "cell_type": "code",
   "execution_count": 13,
   "metadata": {},
   "outputs": [],
   "source": [
    "home_games_fetched, away_games_fetched = {},{}\n",
    "for team in teams:\n",
    "    home_games_fetched[team], away_games_fetched[team] = 0,0"
   ]
  },
  {
   "cell_type": "code",
   "execution_count": 15,
   "metadata": {},
   "outputs": [],
   "source": [
    "df['Home Std'] = df.apply(lambda row: expected_std(row,True),axis=1)\n",
    "df['Away Std'] = df.apply(lambda row: expected_std(row,False),axis=1)"
   ]
  },
  {
   "cell_type": "code",
   "execution_count": 14,
   "metadata": {},
   "outputs": [],
   "source": [
    "def expected_std(row,home):\n",
    "    expected_std = 0\n",
    "    if home:\n",
    "        expected_std = home_ndf_regs[row['Home Team']][home_games_fetched[row['Home Team']]]['std']\n",
    "        home_games_fetched[row['Home Team']] += 1\n",
    "    elif not home:\n",
    "        expected_std = away_ndf_regs[row['Away Team']][away_games_fetched[row['Away Team']]]['std']\n",
    "        away_games_fetched[row['Away Team']] += 1\n",
    "        \n",
    "    return expected_std / 2"
   ]
  },
  {
   "cell_type": "markdown",
   "metadata": {},
   "source": [
    "## fair odds"
   ]
  },
  {
   "cell_type": "code",
   "execution_count": 18,
   "metadata": {},
   "outputs": [],
   "source": [
    "home_games_fetched, away_games_fetched = {},{}\n",
    "for team in teams:\n",
    "    home_games_fetched[team], away_games_fetched[team] = 0,0"
   ]
  },
  {
   "cell_type": "code",
   "execution_count": 19,
   "metadata": {},
   "outputs": [],
   "source": [
    "df['Home Fair Odds'] = df.apply(lambda row: fair_odds(row,True),axis = 1)\n",
    "df['Away Fair Odds'] = df.apply(lambda row: fair_odds(row,False),axis = 1)"
   ]
  },
  {
   "cell_type": "code",
   "execution_count": 51,
   "metadata": {},
   "outputs": [],
   "source": [
    "def fair_odds(row,home):\n",
    "    expected_ndf = row['Home Expected Ndf'] - row['Away Expected Ndf']\n",
    "    mean_std = (row['Home Std'] + row['Away Std']) / 2\n",
    "    \n",
    "    home_wins = True if expected_ndf >= 0 else False\n",
    "    \n",
    "    if mean_std != 0:\n",
    "        fair_winning_probability = 1/2 * (1 + erf(-abs(expected_ndf)/mean_std / 2))\n",
    "    \n",
    "    else:\n",
    "        fair_winning_probability = 0.99\n",
    "    \n",
    "    if fair_winning_probability == 1: fair_winning_probability = .99\n",
    "    if fair_winning_probability == 0: fair_winning_probability = .01\n",
    "    \n",
    "    if home_wins and home: return 1 / (1 - fair_winning_probability)\n",
    "    if home_wins and not home: return 1/fair_winning_probability\n",
    "    if not home_wins and home: return 1 / fair_winning_probability\n",
    "    if not home_wins and not home: return 1 / (1 - fair_winning_probability)"
   ]
  },
  {
   "cell_type": "code",
   "execution_count": 17,
   "metadata": {},
   "outputs": [],
   "source": [
    "import math\n",
    "def erf(x):\n",
    "    sign = 1 if x >= 0 else -1\n",
    "    x = abs(x)\n",
    "\n",
    "    a1 =  0.254829592\n",
    "    a2 = -0.284496736\n",
    "    a3 =  1.421413741\n",
    "    a4 = -1.453152027\n",
    "    a5 =  1.061405429\n",
    "    p  =  0.3275911\n",
    "\n",
    "    t = 1.0/(1.0 + p*x)\n",
    "    y = 1.0 - (((((a5*t + a4)*t) + a3)*t + a2)*t + a1)*t*math.exp(-x*x)\n",
    "    return sign*y"
   ]
  },
  {
   "cell_type": "markdown",
   "metadata": {},
   "source": [
    "## Testing against benchmark (Vegas)"
   ]
  },
  {
   "cell_type": "code",
   "execution_count": 50,
   "metadata": {},
   "outputs": [
    {
     "name": "stdout",
     "output_type": "stream",
     "text": [
      "Wins, Losses:  131 67 ( 0.662 ) %\n",
      "Average Bet size:  12.645540029799092\n",
      "Total Money won:  1571.599963086846\n",
      "Average bet result: + 7.937373550943667\n",
      "Percentage of games bet:  37.429  %\n",
      "Percentage of money bet won:  62.768  %\n"
     ]
    }
   ],
   "source": [
    "threshold, start, leverage_factor = 1, 700, 10\n",
    "wins, losses, money, total_bet = 0,0,0, 0\n",
    "for i, game in df.iterrows():\n",
    "    home_threshold = above_threshold(game['Home Fair Odds'],threshold)\n",
    "    away_threshold = above_threshold(game['Away Fair Odds'],threshold)\n",
    "    \n",
    "    if home_threshold < game['Home Odds'] and i > start:\n",
    "        #bet home team\n",
    "        if game['Home Points'] > game['Away Points']:\n",
    "            wins += 1\n",
    "            money += leverage(home_threshold,game['Home Odds']) * (game['Home Odds'] - 1)\n",
    "            total_bet += leverage(home_threshold,game['Home Odds'])\n",
    "            \n",
    "        else:\n",
    "            losses += 1\n",
    "            money -= leverage(home_threshold,game['Home Odds'])\n",
    "            total_bet += leverage(home_threshold,game['Home Odds'])\n",
    "            \n",
    "    if away_threshold < game['Away Odds'] and i > start:\n",
    "        #bet away team\n",
    "        if game['Home Points'] < game['Away Points']:\n",
    "            wins += 1\n",
    "            money += leverage(home_threshold,game['Away Odds']) * (game['Away Odds'] - 1)\n",
    "            total_bet += leverage(home_threshold,game['Away Odds'])\n",
    "            \n",
    "        else:\n",
    "            losses += 1\n",
    "            money -= leverage(home_threshold,game['Away Odds'])\n",
    "            total_bet += leverage(home_threshold,game['Away Odds'])\n",
    "            \n",
    "print('Wins, Losses: ',wins,losses, '(',round(wins/(wins+losses),3),') %')\n",
    "print('Average Bet size: ', total_bet/(wins+losses))\n",
    "print('Total Money won: ',money)\n",
    "print('Average bet result: +',money/(wins+losses))\n",
    "print('Percentage of games bet: ',round(100*(wins+losses)/(len(df)-start),3), ' %')\n",
    "print('Percentage of money bet won: ', round(100*money/total_bet,3),' %')"
   ]
  },
  {
   "cell_type": "code",
   "execution_count": 21,
   "metadata": {},
   "outputs": [],
   "source": [
    "def above_threshold(value, threshold):\n",
    "    return (value-1)*(threshold+1)+1"
   ]
  },
  {
   "cell_type": "code",
   "execution_count": 22,
   "metadata": {},
   "outputs": [],
   "source": [
    "def leverage(fair,odds):\n",
    "    return leverage_factor * odds / fair"
   ]
  },
  {
   "cell_type": "code",
   "execution_count": 71,
   "metadata": {},
   "outputs": [],
   "source": [
    "def difference_std(reg,xs,ys):\n",
    "    difs = []\n",
    "    for i,x in enumerate(xs):\n",
    "        expected_y = reg[0] * x + reg[1]\n",
    "        difs.append(ys[i]-expected_y)\n",
    "    return np.std(difs)"
   ]
  }
 ],
 "metadata": {
  "kernelspec": {
   "display_name": "Python 3",
   "language": "python",
   "name": "python3"
  },
  "language_info": {
   "codemirror_mode": {
    "name": "ipython",
    "version": 3
   },
   "file_extension": ".py",
   "mimetype": "text/x-python",
   "name": "python",
   "nbconvert_exporter": "python",
   "pygments_lexer": "ipython3",
   "version": "3.7.6"
  }
 },
 "nbformat": 4,
 "nbformat_minor": 4
}
